{
 "cells": [
  {
   "cell_type": "code",
   "execution_count": 1,
   "metadata": {},
   "outputs": [],
   "source": [
    "import pandas as pd"
   ]
  },
  {
   "cell_type": "code",
   "execution_count": 21,
   "metadata": {},
   "outputs": [],
   "source": [
    "# Load data from CSV files into Pandas dataframes\n",
    "order_items = pd.read_csv(\"raw_data/olist_order_items_dataset.csv\") # Order items data\n",
    "products = pd.read_csv(\"raw_data/olist_products_dataset.csv\") # Products data\n",
    "sellers = pd.read_csv(\"raw_data/olist_sellers_dataset.csv\") # Sellers data\n",
    "\n",
    "# Select only relevant columns from the products dataframe\n",
    "products = products.loc[:, [\"product_id\", \"product_category_name\"]]\n",
    "\n",
    "# Merge the order_items and products dataframes based on matching product_id values\n",
    "order_items = order_items.merge(products, how=\"inner\", on=\"product_id\")\n",
    "\n",
    "# Merge the resulting dataframe with the sellers dataframe based on matching seller_id values\n",
    "order_items = order_items.merge(sellers, how=\"inner\", on=\"seller_id\")\n",
    "\n",
    "# Note: The resulting dataframe likely contains information about the product, seller, and order for each item in the dataset."
   ]
  },
  {
   "cell_type": "code",
   "execution_count": 24,
   "metadata": {},
   "outputs": [],
   "source": [
    "orders_data = pd.read_csv(\"raw_data/olist_orders_dataset.csv\") # Orders data\n",
    "payments = pd.read_csv(\"raw_data/olist_order_payments_dataset.csv\") # Order payments data\n",
    "customers = pd.read_csv(\"raw_data/olist_customers_dataset.csv\") # Customers data\n",
    "\n",
    "# Merge the orders_data dataframe with the order_items dataframe based on matching order_id values\n",
    "orders_data = orders_data.merge(order_items, how=\"inner\", on=\"order_id\")\n",
    "\n",
    "# Merge the resulting dataframe with the payments dataframe based on matching order_id values\n",
    "orders_data = orders_data.merge(payments, how=\"inner\", on=\"order_id\")\n",
    "\n",
    "# Merge the resulting dataframe with the customers dataframe based on matching customer_id values\n",
    "orders_data = orders_data.merge(customers, how=\"inner\", on=\"customer_id\")\n",
    "\n",
    "# Note: The resulting dataframe likely contains information about each order, its associated items and payments, and the corresponding customer."
   ]
  },
  {
   "cell_type": "code",
   "execution_count": 27,
   "metadata": {},
   "outputs": [],
   "source": [
    "# Exporting the data as a parquet file\n",
    "orders_data.to_parquet(\"assets/data/orders_data.parquet\")"
   ]
  }
 ],
 "metadata": {
  "kernelspec": {
   "display_name": "py_env",
   "language": "python",
   "name": "python3"
  },
  "language_info": {
   "codemirror_mode": {
    "name": "ipython",
    "version": 3
   },
   "file_extension": ".py",
   "mimetype": "text/x-python",
   "name": "python",
   "nbconvert_exporter": "python",
   "pygments_lexer": "ipython3",
   "version": "3.10.7"
  },
  "orig_nbformat": 4
 },
 "nbformat": 4,
 "nbformat_minor": 2
}
